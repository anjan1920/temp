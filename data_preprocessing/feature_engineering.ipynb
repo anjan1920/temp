{
 "cells": [
  {
   "cell_type": "code",
   "execution_count": 1,
   "id": "bc85244a",
   "metadata": {},
   "outputs": [],
   "source": [
    "import pandas as pd\n",
    "import numpy as np\n",
    "import seaborn as sns\n",
    "import matplotlib.pyplot as plt"
   ]
  },
  {
   "cell_type": "code",
   "execution_count": 2,
   "id": "273c6837",
   "metadata": {},
   "outputs": [
    {
     "name": "stdout",
     "output_type": "stream",
     "text": [
      "Index(['age', 'gender', 'region', 'marital_status', 'number_of_dependants',\n",
      "       'bmi_category', 'smoking_status', 'employment_status', 'income_level',\n",
      "       'income_lakhs', 'medical_history', 'insurance_plan',\n",
      "       'annual_premium_amount', 'medical_score', 'normalized_risk_score',\n",
      "       'insurance_plan_numerical', 'employment_score', 'smoking_score'],\n",
      "      dtype='object')\n"
     ]
    }
   ],
   "source": [
    "#load teh file \n",
    "df = pd.read_excel('processed_premiums.xlsx')\n",
    "print(df.columns)\n"
   ]
  },
  {
   "cell_type": "code",
   "execution_count": 3,
   "id": "8f5d9d05",
   "metadata": {},
   "outputs": [
    {
     "data": {
      "text/plain": [
       "Index(['age', 'gender', 'region', 'marital_status', 'number_of_dependants',\n",
       "       'bmi_category', 'income_level', 'income_lakhs', 'annual_premium_amount',\n",
       "       'medical_score', 'insurance_plan_numerical', 'employment_score',\n",
       "       'smoking_score'],\n",
       "      dtype='object')"
      ]
     },
     "execution_count": 3,
     "metadata": {},
     "output_type": "execute_result"
    }
   ],
   "source": [
    "#lets drop the columns \n",
    "df = df.drop(['smoking_status','employment_status','medical_history','insurance_plan','normalized_risk_score'],axis='columns')\n",
    "df.columns"
   ]
  },
  {
   "cell_type": "code",
   "execution_count": 4,
   "id": "96bf82bf",
   "metadata": {},
   "outputs": [
    {
     "name": "stdout",
     "output_type": "stream",
     "text": [
      "(49808, 13)\n"
     ]
    },
    {
     "data": {
      "text/html": [
       "<div>\n",
       "<style scoped>\n",
       "    .dataframe tbody tr th:only-of-type {\n",
       "        vertical-align: middle;\n",
       "    }\n",
       "\n",
       "    .dataframe tbody tr th {\n",
       "        vertical-align: top;\n",
       "    }\n",
       "\n",
       "    .dataframe thead th {\n",
       "        text-align: right;\n",
       "    }\n",
       "</style>\n",
       "<table border=\"1\" class=\"dataframe\">\n",
       "  <thead>\n",
       "    <tr style=\"text-align: right;\">\n",
       "      <th></th>\n",
       "      <th>age</th>\n",
       "      <th>gender</th>\n",
       "      <th>region</th>\n",
       "      <th>marital_status</th>\n",
       "      <th>number_of_dependants</th>\n",
       "      <th>bmi_category</th>\n",
       "      <th>income_level</th>\n",
       "      <th>income_lakhs</th>\n",
       "      <th>annual_premium_amount</th>\n",
       "      <th>medical_score</th>\n",
       "      <th>insurance_plan_numerical</th>\n",
       "      <th>employment_score</th>\n",
       "      <th>smoking_score</th>\n",
       "    </tr>\n",
       "  </thead>\n",
       "  <tbody>\n",
       "    <tr>\n",
       "      <th>0</th>\n",
       "      <td>26</td>\n",
       "      <td>Male</td>\n",
       "      <td>Northwest</td>\n",
       "      <td>Unmarried</td>\n",
       "      <td>0</td>\n",
       "      <td>Normal</td>\n",
       "      <td>&lt;10L</td>\n",
       "      <td>6</td>\n",
       "      <td>9053</td>\n",
       "      <td>3</td>\n",
       "      <td>1</td>\n",
       "      <td>3</td>\n",
       "      <td>1</td>\n",
       "    </tr>\n",
       "  </tbody>\n",
       "</table>\n",
       "</div>"
      ],
      "text/plain": [
       "   age gender     region marital_status  number_of_dependants bmi_category  \\\n",
       "0   26   Male  Northwest      Unmarried                     0       Normal   \n",
       "\n",
       "  income_level  income_lakhs  annual_premium_amount  medical_score  \\\n",
       "0         <10L             6                   9053              3   \n",
       "\n",
       "   insurance_plan_numerical  employment_score  smoking_score  \n",
       "0                         1                 3              1  "
      ]
     },
     "execution_count": 4,
     "metadata": {},
     "output_type": "execute_result"
    }
   ],
   "source": [
    "print(df.shape)\n",
    "df.head(1)"
   ]
  },
  {
   "cell_type": "code",
   "execution_count": 5,
   "id": "ff2f6d58",
   "metadata": {},
   "outputs": [
    {
     "data": {
      "text/plain": [
       "Index(['region_Northwest', 'region_Southeast', 'region_Southwest',\n",
       "       'marital_status_Unmarried', 'gender_Male', 'bmi_category_Obesity',\n",
       "       'bmi_category_Overweight', 'bmi_category_Underweight'],\n",
       "      dtype='object')"
      ]
     },
     "execution_count": 5,
     "metadata": {},
     "output_type": "execute_result"
    }
   ],
   "source": [
    "# #encode the categorical\n",
    "# print(df.columns)\n",
    "df_encoded = pd.get_dummies(df[['region','marital_status', 'gender','bmi_category']], drop_first=True)\n",
    "df_encoded.columns\n"
   ]
  },
  {
   "cell_type": "code",
   "execution_count": 6,
   "id": "2caa55c9",
   "metadata": {},
   "outputs": [
    {
     "data": {
      "text/plain": [
       "(49808, 8)"
      ]
     },
     "execution_count": 6,
     "metadata": {},
     "output_type": "execute_result"
    }
   ],
   "source": [
    "df_encoded.shape"
   ]
  },
  {
   "cell_type": "code",
   "execution_count": 7,
   "id": "afeec55d",
   "metadata": {},
   "outputs": [
    {
     "data": {
      "text/html": [
       "<div>\n",
       "<style scoped>\n",
       "    .dataframe tbody tr th:only-of-type {\n",
       "        vertical-align: middle;\n",
       "    }\n",
       "\n",
       "    .dataframe tbody tr th {\n",
       "        vertical-align: top;\n",
       "    }\n",
       "\n",
       "    .dataframe thead th {\n",
       "        text-align: right;\n",
       "    }\n",
       "</style>\n",
       "<table border=\"1\" class=\"dataframe\">\n",
       "  <thead>\n",
       "    <tr style=\"text-align: right;\">\n",
       "      <th></th>\n",
       "      <th>age</th>\n",
       "      <th>number_of_dependants</th>\n",
       "      <th>income_lakhs</th>\n",
       "      <th>annual_premium_amount</th>\n",
       "      <th>medical_score</th>\n",
       "      <th>insurance_plan_numerical</th>\n",
       "      <th>employment_score</th>\n",
       "      <th>smoking_score</th>\n",
       "    </tr>\n",
       "  </thead>\n",
       "  <tbody>\n",
       "    <tr>\n",
       "      <th>0</th>\n",
       "      <td>26</td>\n",
       "      <td>0</td>\n",
       "      <td>6</td>\n",
       "      <td>9053</td>\n",
       "      <td>3</td>\n",
       "      <td>1</td>\n",
       "      <td>3</td>\n",
       "      <td>1</td>\n",
       "    </tr>\n",
       "  </tbody>\n",
       "</table>\n",
       "</div>"
      ],
      "text/plain": [
       "   age  number_of_dependants  income_lakhs  annual_premium_amount  \\\n",
       "0   26                     0             6                   9053   \n",
       "\n",
       "   medical_score  insurance_plan_numerical  employment_score  smoking_score  \n",
       "0              3                         1                 3              1  "
      ]
     },
     "execution_count": 7,
     "metadata": {},
     "output_type": "execute_result"
    }
   ],
   "source": [
    "# #now drop the categorical\n",
    "df = df.drop(['marital_status', 'region','gender', 'income_level','bmi_category'],axis='columns')\n",
    "df.head(1)"
   ]
  },
  {
   "cell_type": "code",
   "execution_count": 8,
   "id": "b233bc0e",
   "metadata": {},
   "outputs": [
    {
     "data": {
      "text/html": [
       "<div>\n",
       "<style scoped>\n",
       "    .dataframe tbody tr th:only-of-type {\n",
       "        vertical-align: middle;\n",
       "    }\n",
       "\n",
       "    .dataframe tbody tr th {\n",
       "        vertical-align: top;\n",
       "    }\n",
       "\n",
       "    .dataframe thead th {\n",
       "        text-align: right;\n",
       "    }\n",
       "</style>\n",
       "<table border=\"1\" class=\"dataframe\">\n",
       "  <thead>\n",
       "    <tr style=\"text-align: right;\">\n",
       "      <th></th>\n",
       "      <th>age</th>\n",
       "      <th>number_of_dependants</th>\n",
       "      <th>income_lakhs</th>\n",
       "      <th>annual_premium_amount</th>\n",
       "      <th>medical_score</th>\n",
       "      <th>insurance_plan_numerical</th>\n",
       "      <th>employment_score</th>\n",
       "      <th>smoking_score</th>\n",
       "      <th>region_Northwest</th>\n",
       "      <th>region_Southeast</th>\n",
       "      <th>region_Southwest</th>\n",
       "      <th>marital_status_Unmarried</th>\n",
       "      <th>gender_Male</th>\n",
       "      <th>bmi_category_Obesity</th>\n",
       "      <th>bmi_category_Overweight</th>\n",
       "      <th>bmi_category_Underweight</th>\n",
       "    </tr>\n",
       "  </thead>\n",
       "  <tbody>\n",
       "    <tr>\n",
       "      <th>0</th>\n",
       "      <td>26</td>\n",
       "      <td>0</td>\n",
       "      <td>6</td>\n",
       "      <td>9053</td>\n",
       "      <td>3</td>\n",
       "      <td>1</td>\n",
       "      <td>3</td>\n",
       "      <td>1</td>\n",
       "      <td>True</td>\n",
       "      <td>False</td>\n",
       "      <td>False</td>\n",
       "      <td>True</td>\n",
       "      <td>True</td>\n",
       "      <td>False</td>\n",
       "      <td>False</td>\n",
       "      <td>False</td>\n",
       "    </tr>\n",
       "    <tr>\n",
       "      <th>1</th>\n",
       "      <td>29</td>\n",
       "      <td>2</td>\n",
       "      <td>6</td>\n",
       "      <td>16339</td>\n",
       "      <td>3</td>\n",
       "      <td>1</td>\n",
       "      <td>3</td>\n",
       "      <td>3</td>\n",
       "      <td>False</td>\n",
       "      <td>True</td>\n",
       "      <td>False</td>\n",
       "      <td>False</td>\n",
       "      <td>False</td>\n",
       "      <td>True</td>\n",
       "      <td>False</td>\n",
       "      <td>False</td>\n",
       "    </tr>\n",
       "  </tbody>\n",
       "</table>\n",
       "</div>"
      ],
      "text/plain": [
       "   age  number_of_dependants  income_lakhs  annual_premium_amount  \\\n",
       "0   26                     0             6                   9053   \n",
       "1   29                     2             6                  16339   \n",
       "\n",
       "   medical_score  insurance_plan_numerical  employment_score  smoking_score  \\\n",
       "0              3                         1                 3              1   \n",
       "1              3                         1                 3              3   \n",
       "\n",
       "   region_Northwest  region_Southeast  region_Southwest  \\\n",
       "0              True             False             False   \n",
       "1             False              True             False   \n",
       "\n",
       "   marital_status_Unmarried  gender_Male  bmi_category_Obesity  \\\n",
       "0                      True         True                 False   \n",
       "1                     False        False                  True   \n",
       "\n",
       "   bmi_category_Overweight  bmi_category_Underweight  \n",
       "0                    False                     False  \n",
       "1                    False                     False  "
      ]
     },
     "execution_count": 8,
     "metadata": {},
     "output_type": "execute_result"
    }
   ],
   "source": [
    "#now add the label encoded in the df\n",
    "df_with_encoded= pd.concat([df, df_encoded], axis=1)\n",
    "df_with_encoded.head(2)"
   ]
  },
  {
   "cell_type": "code",
   "execution_count": 9,
   "id": "2629b52b",
   "metadata": {},
   "outputs": [
    {
     "data": {
      "text/plain": [
       "(49808, 16)"
      ]
     },
     "execution_count": 9,
     "metadata": {},
     "output_type": "execute_result"
    }
   ],
   "source": [
    "df_with_encoded.shape"
   ]
  },
  {
   "cell_type": "code",
   "execution_count": 10,
   "id": "8dfcbd6b",
   "metadata": {},
   "outputs": [
    {
     "name": "stderr",
     "output_type": "stream",
     "text": [
      "/tmp/ipykernel_40823/4160230727.py:18: FutureWarning: DataFrame.applymap has been deprecated. Use DataFrame.map instead.\n",
      "  x_remain = x_remain.applymap(lambda v: 1 if v is True else (0 if v is False else v))\n"
     ]
    },
    {
     "data": {
      "text/html": [
       "<div>\n",
       "<style scoped>\n",
       "    .dataframe tbody tr th:only-of-type {\n",
       "        vertical-align: middle;\n",
       "    }\n",
       "\n",
       "    .dataframe tbody tr th {\n",
       "        vertical-align: top;\n",
       "    }\n",
       "\n",
       "    .dataframe thead th {\n",
       "        text-align: right;\n",
       "    }\n",
       "</style>\n",
       "<table border=\"1\" class=\"dataframe\">\n",
       "  <thead>\n",
       "    <tr style=\"text-align: right;\">\n",
       "      <th></th>\n",
       "      <th>age</th>\n",
       "      <th>number_of_dependants</th>\n",
       "      <th>income_lakhs</th>\n",
       "      <th>medical_score</th>\n",
       "      <th>insurance_plan_numerical</th>\n",
       "      <th>employment_score</th>\n",
       "      <th>smoking_score</th>\n",
       "      <th>region_Northwest</th>\n",
       "      <th>region_Southeast</th>\n",
       "      <th>region_Southwest</th>\n",
       "      <th>marital_status_Unmarried</th>\n",
       "      <th>gender_Male</th>\n",
       "      <th>bmi_category_Obesity</th>\n",
       "      <th>bmi_category_Overweight</th>\n",
       "      <th>bmi_category_Underweight</th>\n",
       "    </tr>\n",
       "  </thead>\n",
       "  <tbody>\n",
       "    <tr>\n",
       "      <th>0</th>\n",
       "      <td>0.148148</td>\n",
       "      <td>0.0</td>\n",
       "      <td>0.05102</td>\n",
       "      <td>0.428571</td>\n",
       "      <td>0.0</td>\n",
       "      <td>1.0</td>\n",
       "      <td>0.0</td>\n",
       "      <td>1</td>\n",
       "      <td>0</td>\n",
       "      <td>0</td>\n",
       "      <td>1</td>\n",
       "      <td>1</td>\n",
       "      <td>0</td>\n",
       "      <td>0</td>\n",
       "      <td>0</td>\n",
       "    </tr>\n",
       "    <tr>\n",
       "      <th>1</th>\n",
       "      <td>0.203704</td>\n",
       "      <td>0.4</td>\n",
       "      <td>0.05102</td>\n",
       "      <td>0.428571</td>\n",
       "      <td>0.0</td>\n",
       "      <td>1.0</td>\n",
       "      <td>1.0</td>\n",
       "      <td>0</td>\n",
       "      <td>1</td>\n",
       "      <td>0</td>\n",
       "      <td>0</td>\n",
       "      <td>0</td>\n",
       "      <td>1</td>\n",
       "      <td>0</td>\n",
       "      <td>0</td>\n",
       "    </tr>\n",
       "  </tbody>\n",
       "</table>\n",
       "</div>"
      ],
      "text/plain": [
       "        age  number_of_dependants  income_lakhs  medical_score  \\\n",
       "0  0.148148                   0.0       0.05102       0.428571   \n",
       "1  0.203704                   0.4       0.05102       0.428571   \n",
       "\n",
       "   insurance_plan_numerical  employment_score  smoking_score  \\\n",
       "0                       0.0               1.0            0.0   \n",
       "1                       0.0               1.0            1.0   \n",
       "\n",
       "   region_Northwest  region_Southeast  region_Southwest  \\\n",
       "0                 1                 0                 0   \n",
       "1                 0                 1                 0   \n",
       "\n",
       "   marital_status_Unmarried  gender_Male  bmi_category_Obesity  \\\n",
       "0                         1            1                     0   \n",
       "1                         0            0                     1   \n",
       "\n",
       "   bmi_category_Overweight  bmi_category_Underweight  \n",
       "0                        0                         0  \n",
       "1                        0                         0  "
      ]
     },
     "execution_count": 10,
     "metadata": {},
     "output_type": "execute_result"
    }
   ],
   "source": [
    "#now scale the columns\n",
    "from sklearn.preprocessing import MinMaxScaler\n",
    "\n",
    "# Columns to scale\n",
    "cols_to_scale = [\n",
    "    'age', 'number_of_dependants', 'income_lakhs',\n",
    "    'medical_score', 'employment_score',\n",
    "    'smoking_score', 'insurance_plan_numerical'\n",
    "]\n",
    "\n",
    "# Extract target\n",
    "x_target = df_with_encoded['annual_premium_amount']\n",
    "\n",
    "# Remaining features\n",
    "x_remain = df_with_encoded.drop('annual_premium_amount', axis=1)\n",
    "\n",
    "# Convert True/False to 0/1\n",
    "x_remain = x_remain.applymap(lambda v: 1 if v is True else (0 if v is False else v))\n",
    "\n",
    "# Scale selected columns\n",
    "scaler = MinMaxScaler()\n",
    "x_remain[cols_to_scale] = scaler.fit_transform(x_remain[cols_to_scale])\n",
    "\n",
    "# Check result\n",
    "x_remain.head(2)\n",
    "\n"
   ]
  },
  {
   "cell_type": "code",
   "execution_count": 11,
   "id": "0744bbd1",
   "metadata": {},
   "outputs": [
    {
     "name": "stdout",
     "output_type": "stream",
     "text": [
      "X_remain shape;(49808, 15)\n",
      "x_target shape:(49808,)\n"
     ]
    }
   ],
   "source": [
    "print(f'X_remain shape;{x_remain.shape}')\n",
    "print(f'x_target shape:{x_target.shape}')"
   ]
  },
  {
   "cell_type": "code",
   "execution_count": 12,
   "id": "f7fc473d",
   "metadata": {},
   "outputs": [
    {
     "data": {
      "text/html": [
       "<div>\n",
       "<style scoped>\n",
       "    .dataframe tbody tr th:only-of-type {\n",
       "        vertical-align: middle;\n",
       "    }\n",
       "\n",
       "    .dataframe tbody tr th {\n",
       "        vertical-align: top;\n",
       "    }\n",
       "\n",
       "    .dataframe thead th {\n",
       "        text-align: right;\n",
       "    }\n",
       "</style>\n",
       "<table border=\"1\" class=\"dataframe\">\n",
       "  <thead>\n",
       "    <tr style=\"text-align: right;\">\n",
       "      <th></th>\n",
       "      <th>age</th>\n",
       "      <th>number_of_dependants</th>\n",
       "      <th>income_lakhs</th>\n",
       "      <th>medical_score</th>\n",
       "      <th>insurance_plan_numerical</th>\n",
       "      <th>employment_score</th>\n",
       "      <th>smoking_score</th>\n",
       "      <th>region_Northwest</th>\n",
       "      <th>region_Southeast</th>\n",
       "      <th>region_Southwest</th>\n",
       "      <th>marital_status_Unmarried</th>\n",
       "      <th>gender_Male</th>\n",
       "      <th>bmi_category_Obesity</th>\n",
       "      <th>bmi_category_Overweight</th>\n",
       "      <th>bmi_category_Underweight</th>\n",
       "      <th>annual_premium_amount</th>\n",
       "    </tr>\n",
       "  </thead>\n",
       "  <tbody>\n",
       "    <tr>\n",
       "      <th>0</th>\n",
       "      <td>0.148148</td>\n",
       "      <td>0.0</td>\n",
       "      <td>0.051020</td>\n",
       "      <td>0.428571</td>\n",
       "      <td>0.0</td>\n",
       "      <td>1.0</td>\n",
       "      <td>0.0</td>\n",
       "      <td>1</td>\n",
       "      <td>0</td>\n",
       "      <td>0</td>\n",
       "      <td>1</td>\n",
       "      <td>1</td>\n",
       "      <td>0</td>\n",
       "      <td>0</td>\n",
       "      <td>0</td>\n",
       "      <td>9053</td>\n",
       "    </tr>\n",
       "    <tr>\n",
       "      <th>1</th>\n",
       "      <td>0.203704</td>\n",
       "      <td>0.4</td>\n",
       "      <td>0.051020</td>\n",
       "      <td>0.428571</td>\n",
       "      <td>0.0</td>\n",
       "      <td>1.0</td>\n",
       "      <td>1.0</td>\n",
       "      <td>0</td>\n",
       "      <td>1</td>\n",
       "      <td>0</td>\n",
       "      <td>0</td>\n",
       "      <td>0</td>\n",
       "      <td>1</td>\n",
       "      <td>0</td>\n",
       "      <td>0</td>\n",
       "      <td>16339</td>\n",
       "    </tr>\n",
       "    <tr>\n",
       "      <th>2</th>\n",
       "      <td>0.574074</td>\n",
       "      <td>0.4</td>\n",
       "      <td>0.193878</td>\n",
       "      <td>0.285714</td>\n",
       "      <td>0.5</td>\n",
       "      <td>0.5</td>\n",
       "      <td>0.0</td>\n",
       "      <td>0</td>\n",
       "      <td>0</td>\n",
       "      <td>0</td>\n",
       "      <td>0</td>\n",
       "      <td>0</td>\n",
       "      <td>0</td>\n",
       "      <td>0</td>\n",
       "      <td>0</td>\n",
       "      <td>18164</td>\n",
       "    </tr>\n",
       "    <tr>\n",
       "      <th>3</th>\n",
       "      <td>0.222222</td>\n",
       "      <td>0.6</td>\n",
       "      <td>0.775510</td>\n",
       "      <td>0.000000</td>\n",
       "      <td>1.0</td>\n",
       "      <td>1.0</td>\n",
       "      <td>0.0</td>\n",
       "      <td>0</td>\n",
       "      <td>1</td>\n",
       "      <td>0</td>\n",
       "      <td>0</td>\n",
       "      <td>0</td>\n",
       "      <td>0</td>\n",
       "      <td>0</td>\n",
       "      <td>0</td>\n",
       "      <td>20303</td>\n",
       "    </tr>\n",
       "  </tbody>\n",
       "</table>\n",
       "</div>"
      ],
      "text/plain": [
       "        age  number_of_dependants  income_lakhs  medical_score  \\\n",
       "0  0.148148                   0.0      0.051020       0.428571   \n",
       "1  0.203704                   0.4      0.051020       0.428571   \n",
       "2  0.574074                   0.4      0.193878       0.285714   \n",
       "3  0.222222                   0.6      0.775510       0.000000   \n",
       "\n",
       "   insurance_plan_numerical  employment_score  smoking_score  \\\n",
       "0                       0.0               1.0            0.0   \n",
       "1                       0.0               1.0            1.0   \n",
       "2                       0.5               0.5            0.0   \n",
       "3                       1.0               1.0            0.0   \n",
       "\n",
       "   region_Northwest  region_Southeast  region_Southwest  \\\n",
       "0                 1                 0                 0   \n",
       "1                 0                 1                 0   \n",
       "2                 0                 0                 0   \n",
       "3                 0                 1                 0   \n",
       "\n",
       "   marital_status_Unmarried  gender_Male  bmi_category_Obesity  \\\n",
       "0                         1            1                     0   \n",
       "1                         0            0                     1   \n",
       "2                         0            0                     0   \n",
       "3                         0            0                     0   \n",
       "\n",
       "   bmi_category_Overweight  bmi_category_Underweight  annual_premium_amount  \n",
       "0                        0                         0                   9053  \n",
       "1                        0                         0                  16339  \n",
       "2                        0                         0                  18164  \n",
       "3                        0                         0                  20303  "
      ]
     },
     "execution_count": 12,
     "metadata": {},
     "output_type": "execute_result"
    }
   ],
   "source": [
    "df_final = pd.concat([x_remain, x_target], axis=1)\n",
    "df_final.head(4)"
   ]
  },
  {
   "cell_type": "code",
   "execution_count": 13,
   "id": "1eb54d3a",
   "metadata": {},
   "outputs": [
    {
     "data": {
      "text/plain": [
       "(49808, 16)"
      ]
     },
     "execution_count": 13,
     "metadata": {},
     "output_type": "execute_result"
    }
   ],
   "source": [
    "df_final.shape"
   ]
  },
  {
   "cell_type": "code",
   "execution_count": 14,
   "id": "ed28652a",
   "metadata": {},
   "outputs": [],
   "source": [
    "#save the scale in pkl \n",
    "#for future testing of raw data\n",
    "import pickle\n",
    "with open('minmax_scaler.pkl', 'wb') as f:\n",
    "    pickle.dump(scaler, f) "
   ]
  },
  {
   "cell_type": "code",
   "execution_count": 15,
   "id": "e10abb67",
   "metadata": {},
   "outputs": [],
   "source": [
    "# now check the VIF in the feature columns (X)\n",
    "# VIF stands for Variance Inflation Factor\n",
    "# It measures how much a column is linearly explained by the other columns\n",
    "# If VIF > 10, it indicates high multicollinearity\n",
    "# --> The column can be mostly explained by other columns and may be dropped\n",
    "\n",
    "from statsmodels.stats.outliers_influence import variance_inflation_factor\n",
    "\n",
    "def calculate_vif(df):\n",
    "   \n",
    "    vif_data = pd.DataFrame()\n",
    "    vif_data[\"Feature\"] = df.columns\n",
    "    vif_data[\"VIF\"] = [variance_inflation_factor(df.values, i) for i in range(df.shape[1])]\n",
    "    return vif_data\n"
   ]
  },
  {
   "cell_type": "code",
   "execution_count": 16,
   "id": "a4c477ac",
   "metadata": {},
   "outputs": [
    {
     "name": "stdout",
     "output_type": "stream",
     "text": [
      "                     Feature       VIF\n",
      "0                        age  4.154079\n",
      "1       number_of_dependants  4.478887\n",
      "2               income_lakhs  2.469477\n",
      "3              medical_score  2.314755\n",
      "4   insurance_plan_numerical  3.431011\n",
      "5           employment_score  2.714551\n",
      "6              smoking_score  1.944540\n",
      "7           region_Northwest  2.096832\n",
      "8           region_Southeast  2.913030\n",
      "9           region_Southwest  2.662131\n",
      "10  marital_status_Unmarried  3.379148\n",
      "11               gender_Male  2.396690\n",
      "12      bmi_category_Obesity  1.352330\n",
      "13   bmi_category_Overweight  1.548520\n",
      "14  bmi_category_Underweight  1.301910\n"
     ]
    }
   ],
   "source": [
    "# Convert boolean columns to int for VIF calculation\n",
    "x_vif = x_remain.copy()\n",
    "\n",
    "vif_result = calculate_vif(x_remain)\n",
    "print(vif_result)"
   ]
  },
  {
   "cell_type": "code",
   "execution_count": 17,
   "id": "5df646ce",
   "metadata": {},
   "outputs": [
    {
     "data": {
      "text/html": [
       "<div>\n",
       "<style scoped>\n",
       "    .dataframe tbody tr th:only-of-type {\n",
       "        vertical-align: middle;\n",
       "    }\n",
       "\n",
       "    .dataframe tbody tr th {\n",
       "        vertical-align: top;\n",
       "    }\n",
       "\n",
       "    .dataframe thead th {\n",
       "        text-align: right;\n",
       "    }\n",
       "</style>\n",
       "<table border=\"1\" class=\"dataframe\">\n",
       "  <thead>\n",
       "    <tr style=\"text-align: right;\">\n",
       "      <th></th>\n",
       "      <th>age</th>\n",
       "      <th>number_of_dependants</th>\n",
       "      <th>income_lakhs</th>\n",
       "      <th>medical_score</th>\n",
       "      <th>insurance_plan_numerical</th>\n",
       "      <th>employment_score</th>\n",
       "      <th>smoking_score</th>\n",
       "      <th>region_Northwest</th>\n",
       "      <th>region_Southeast</th>\n",
       "      <th>region_Southwest</th>\n",
       "      <th>marital_status_Unmarried</th>\n",
       "      <th>gender_Male</th>\n",
       "      <th>bmi_category_Obesity</th>\n",
       "      <th>bmi_category_Overweight</th>\n",
       "      <th>bmi_category_Underweight</th>\n",
       "      <th>annual_premium_amount</th>\n",
       "    </tr>\n",
       "  </thead>\n",
       "  <tbody>\n",
       "    <tr>\n",
       "      <th>0</th>\n",
       "      <td>0.148148</td>\n",
       "      <td>0.0</td>\n",
       "      <td>0.051020</td>\n",
       "      <td>0.428571</td>\n",
       "      <td>0.0</td>\n",
       "      <td>1.0</td>\n",
       "      <td>0.0</td>\n",
       "      <td>1</td>\n",
       "      <td>0</td>\n",
       "      <td>0</td>\n",
       "      <td>1</td>\n",
       "      <td>1</td>\n",
       "      <td>0</td>\n",
       "      <td>0</td>\n",
       "      <td>0</td>\n",
       "      <td>9053</td>\n",
       "    </tr>\n",
       "    <tr>\n",
       "      <th>1</th>\n",
       "      <td>0.203704</td>\n",
       "      <td>0.4</td>\n",
       "      <td>0.051020</td>\n",
       "      <td>0.428571</td>\n",
       "      <td>0.0</td>\n",
       "      <td>1.0</td>\n",
       "      <td>1.0</td>\n",
       "      <td>0</td>\n",
       "      <td>1</td>\n",
       "      <td>0</td>\n",
       "      <td>0</td>\n",
       "      <td>0</td>\n",
       "      <td>1</td>\n",
       "      <td>0</td>\n",
       "      <td>0</td>\n",
       "      <td>16339</td>\n",
       "    </tr>\n",
       "    <tr>\n",
       "      <th>2</th>\n",
       "      <td>0.574074</td>\n",
       "      <td>0.4</td>\n",
       "      <td>0.193878</td>\n",
       "      <td>0.285714</td>\n",
       "      <td>0.5</td>\n",
       "      <td>0.5</td>\n",
       "      <td>0.0</td>\n",
       "      <td>0</td>\n",
       "      <td>0</td>\n",
       "      <td>0</td>\n",
       "      <td>0</td>\n",
       "      <td>0</td>\n",
       "      <td>0</td>\n",
       "      <td>0</td>\n",
       "      <td>0</td>\n",
       "      <td>18164</td>\n",
       "    </tr>\n",
       "    <tr>\n",
       "      <th>3</th>\n",
       "      <td>0.222222</td>\n",
       "      <td>0.6</td>\n",
       "      <td>0.775510</td>\n",
       "      <td>0.000000</td>\n",
       "      <td>1.0</td>\n",
       "      <td>1.0</td>\n",
       "      <td>0.0</td>\n",
       "      <td>0</td>\n",
       "      <td>1</td>\n",
       "      <td>0</td>\n",
       "      <td>0</td>\n",
       "      <td>0</td>\n",
       "      <td>0</td>\n",
       "      <td>0</td>\n",
       "      <td>0</td>\n",
       "      <td>20303</td>\n",
       "    </tr>\n",
       "  </tbody>\n",
       "</table>\n",
       "</div>"
      ],
      "text/plain": [
       "        age  number_of_dependants  income_lakhs  medical_score  \\\n",
       "0  0.148148                   0.0      0.051020       0.428571   \n",
       "1  0.203704                   0.4      0.051020       0.428571   \n",
       "2  0.574074                   0.4      0.193878       0.285714   \n",
       "3  0.222222                   0.6      0.775510       0.000000   \n",
       "\n",
       "   insurance_plan_numerical  employment_score  smoking_score  \\\n",
       "0                       0.0               1.0            0.0   \n",
       "1                       0.0               1.0            1.0   \n",
       "2                       0.5               0.5            0.0   \n",
       "3                       1.0               1.0            0.0   \n",
       "\n",
       "   region_Northwest  region_Southeast  region_Southwest  \\\n",
       "0                 1                 0                 0   \n",
       "1                 0                 1                 0   \n",
       "2                 0                 0                 0   \n",
       "3                 0                 1                 0   \n",
       "\n",
       "   marital_status_Unmarried  gender_Male  bmi_category_Obesity  \\\n",
       "0                         1            1                     0   \n",
       "1                         0            0                     1   \n",
       "2                         0            0                     0   \n",
       "3                         0            0                     0   \n",
       "\n",
       "   bmi_category_Overweight  bmi_category_Underweight  annual_premium_amount  \n",
       "0                        0                         0                   9053  \n",
       "1                        0                         0                  16339  \n",
       "2                        0                         0                  18164  \n",
       "3                        0                         0                  20303  "
      ]
     },
     "execution_count": 17,
     "metadata": {},
     "output_type": "execute_result"
    }
   ],
   "source": [
    "#final features for model training \n",
    "df_final.head(4)"
   ]
  },
  {
   "cell_type": "code",
   "execution_count": 18,
   "id": "c84b865b",
   "metadata": {},
   "outputs": [
    {
     "name": "stdout",
     "output_type": "stream",
     "text": [
      "(49808, 16)\n"
     ]
    },
    {
     "data": {
      "text/plain": [
       "age                         0\n",
       "number_of_dependants        0\n",
       "income_lakhs                0\n",
       "medical_score               0\n",
       "insurance_plan_numerical    0\n",
       "employment_score            0\n",
       "smoking_score               0\n",
       "region_Northwest            0\n",
       "region_Southeast            0\n",
       "region_Southwest            0\n",
       "marital_status_Unmarried    0\n",
       "gender_Male                 0\n",
       "bmi_category_Obesity        0\n",
       "bmi_category_Overweight     0\n",
       "bmi_category_Underweight    0\n",
       "annual_premium_amount       0\n",
       "dtype: int64"
      ]
     },
     "execution_count": 18,
     "metadata": {},
     "output_type": "execute_result"
    }
   ],
   "source": [
    "#final analysis before save\n",
    "print(df_final.shape)\n",
    "df_final.isnull().sum()"
   ]
  },
  {
   "cell_type": "code",
   "execution_count": 19,
   "id": "fa08cd77",
   "metadata": {},
   "outputs": [],
   "source": [
    "#save the file \n",
    "df_final.to_csv('training_data.csv', index=False)"
   ]
  }
 ],
 "metadata": {
  "kernelspec": {
   "display_name": "Python 3",
   "language": "python",
   "name": "python3"
  },
  "language_info": {
   "codemirror_mode": {
    "name": "ipython",
    "version": 3
   },
   "file_extension": ".py",
   "mimetype": "text/x-python",
   "name": "python",
   "nbconvert_exporter": "python",
   "pygments_lexer": "ipython3",
   "version": "3.12.1"
  }
 },
 "nbformat": 4,
 "nbformat_minor": 5
}
